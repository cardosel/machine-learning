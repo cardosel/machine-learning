{
 "cells": [
  {
   "cell_type": "markdown",
   "metadata": {},
   "source": [
    "# Latent Semantic Analysis\n",
    "***"
   ]
  },
  {
   "cell_type": "markdown",
   "metadata": {},
   "source": [
    "Latent Semantic Analysis (LSA) is used for analyzing document to find the underlying concepts of those documents. This comes in handy when a user wants to search for documents using specific words, but they get back documents not only matching their words but also related to their words.\n",
    "\n",
    "Let's first create matrix where each row is a word in a list of titles and the number of times it appears in a title, and each column is a title."
   ]
  },
  {
   "cell_type": "code",
   "execution_count": 1,
   "metadata": {
    "collapsed": true
   },
   "outputs": [],
   "source": [
    "from numpy import zeros\n",
    "from scipy.linalg import svd"
   ]
  },
  {
   "cell_type": "code",
   "execution_count": 4,
   "metadata": {
    "collapsed": false
   },
   "outputs": [],
   "source": [
    "titles = \\\n",
    "[ \n",
    "\"The Neatest Little Guide to Stock Market Investing\", \n",
    "\"Investing For Dummies, 4th Edition\", \n",
    "\"The Little Book of Common Sense Investing: The Only Way to Guarantee Your Fair Share of Stock Market Returns\", \n",
    "\"The Little Book of Value Investing\", \n",
    "\"Value Investing: From Graham to Buffett and Beyond\", \n",
    "\"Rich Dad's Guide to Investing: What the Rich Invest in, That the Poor and the Middle Class Do Not!\", \n",
    "\"Investing in Real Estate, 5th Edition\", \n",
    "\"Stock Investing For Dummies\", \n",
    "\"Rich Dad's Advisors: The ABC's of Real Estate Investing: The Secrets of Finding Hidden Profits Most Investors Miss\" \n",
    "]\n",
    "stopwords = ['and','edition','for','in','little','of','the','to'] \n",
    "ignorechars = ''',:'!'''"
   ]
  },
  {
   "cell_type": "code",
   "execution_count": null,
   "metadata": {
    "collapsed": true
   },
   "outputs": [],
   "source": []
  }
 ],
 "metadata": {
  "kernelspec": {
   "display_name": "Python 2",
   "language": "python",
   "name": "python2"
  },
  "language_info": {
   "codemirror_mode": {
    "name": "ipython",
    "version": 2
   },
   "file_extension": ".py",
   "mimetype": "text/x-python",
   "name": "python",
   "nbconvert_exporter": "python",
   "pygments_lexer": "ipython2",
   "version": "2.7.9"
  }
 },
 "nbformat": 4,
 "nbformat_minor": 0
}
