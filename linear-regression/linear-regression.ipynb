{
 "cells": [
  {
   "cell_type": "code",
   "execution_count": 1,
   "metadata": {
    "collapsed": true
   },
   "outputs": [],
   "source": [
    "%matplotlib inline\n",
    "import numpy as np\n",
    "import pandas as pd\n",
    "import matplotlib.pyplot as plt\n",
    "from mpl_toolkits.mplot3d import Axes3D\n",
    "from pylab import scatter, plot, title, show, xlabel, ylabel\n",
    "import math"
   ]
  },
  {
   "cell_type": "markdown",
   "metadata": {},
   "source": [
    "#Linear Regression w/ One Variable"
   ]
  },
  {
   "cell_type": "markdown",
   "metadata": {
    "collapsed": true
   },
   "source": [
    "First step is to load your data and plot it"
   ]
  },
  {
   "cell_type": "code",
   "execution_count": 148,
   "metadata": {
    "collapsed": false
   },
   "outputs": [
    {
     "name": "stdout",
     "output_type": "stream",
     "text": [
      "   number_of_beers  level_of_drunkenness\n",
      "0        32.502345             31.707006\n",
      "1        53.426804             68.777596\n",
      "2        61.530358             62.562382\n",
      "3        47.475640             71.546632\n",
      "4        59.813208             87.230925\n",
      "5        55.142188             78.211518\n",
      "6        52.211797             79.641973\n",
      "7        39.299567             59.171489\n",
      "8        48.105042             75.331242\n",
      "9        52.550014             71.300880\n"
     ]
    },
    {
     "data": {
      "image/png": "[encoded data removed]",
      "text/plain": [
       "<matplotlib.figure.Figure at 0xcb589e8>"
      ]
     },
     "metadata": {},
     "output_type": "display_data"
    }
   ],
   "source": [
    "data = pd.read_csv('randomdata.csv')\n",
    "print data.head(10)\n",
    "data.plot(kind='scatter', x='number_of_beers', y='level_of_drunkenness', title='Drunk Level Distribution');"
   ]
  },
  {
   "cell_type": "markdown",
   "metadata": {},
   "source": [
    "Obviously the above scenario is quite rediculous and by far unrealistic. That being said, the concepts explained here still apply."
   ]
  },
  {
   "cell_type": "code",
   "execution_count": 149,
   "metadata": {
    "collapsed": false
   },
   "outputs": [],
   "source": [
    "y = data['level_of_drunkenness']\n",
    "x1 = data['number_of_beers']"
   ]
  },
  {
   "cell_type": "markdown",
   "metadata": {},
   "source": [
    "get number of training examples"
   ]
  },
  {
   "cell_type": "code",
   "execution_count": 150,
   "metadata": {
    "collapsed": false
   },
   "outputs": [
    {
     "name": "stdout",
     "output_type": "stream",
     "text": [
      "100\n"
     ]
    }
   ],
   "source": [
    "num_of_observations = y.size\n",
    "print num_of_observations"
   ]
  },
  {
   "cell_type": "markdown",
   "metadata": {},
   "source": [
    "<h3>Equation of a line</h3>\n",
    "\n",
    "$y = \\theta_0 x_0 + \\theta_1 x_1$\n",
    "\n",
    "Note that the first term is the y-intercept"
   ]
  },
  {
   "cell_type": "markdown",
   "metadata": {},
   "source": [
    "Now let's vectorize y values"
   ]
  },
  {
   "cell_type": "code",
   "execution_count": 151,
   "metadata": {
    "collapsed": false,
    "scrolled": true
   },
   "outputs": [
    {
     "name": "stdout",
     "output_type": "stream",
     "text": [
      "[[ 31.70700585]\n",
      " [ 68.77759598]\n",
      " [ 62.5623823 ]\n",
      " [ 71.54663223]\n",
      " [ 87.23092513]\n",
      " [ 78.21151827]\n",
      " [ 79.64197305]\n",
      " [ 59.17148932]\n",
      " [ 75.3312423 ]\n",
      " [ 71.30087989]]\n"
     ]
    }
   ],
   "source": [
    "y = y.as_matrix().reshape(y.size, 1)\n",
    "print y[0:10]"
   ]
  },
  {
   "cell_type": "markdown",
   "metadata": {},
   "source": [
    "Add a column of ones to x1 (this is the coefficient for your y-intercept)"
   ]
  },
  {
   "cell_type": "code",
   "execution_count": 142,
   "metadata": {
    "collapsed": false
   },
   "outputs": [
    {
     "name": "stdout",
     "output_type": "stream",
     "text": [
      "[[  1.          32.50234527]\n",
      " [  1.          53.42680403]\n",
      " [  1.          61.53035803]\n",
      " [  1.          47.47563963]\n",
      " [  1.          59.81320787]\n",
      " [  1.          55.14218841]\n",
      " [  1.          52.21179669]\n",
      " [  1.          39.29956669]\n",
      " [  1.          48.10504169]\n",
      " [  1.          52.55001444]]\n"
     ]
    }
   ],
   "source": [
    "x1_with_yintercept = np.ones(shape=(num_of_observations, 2))\n",
    "x1_with_yintercept[:, 1] = x1\n",
    "print x1_with_yintercept[0:10]"
   ]
  },
  {
   "cell_type": "markdown",
   "metadata": {},
   "source": [
    "We'll want to use the Normal Equation if our number of observations is less than 10,000. Otherwise, we'd want to use gradient Descent to find the most optimal coefficients. Since our number of observation is 0, let's use the Normal Equation.\n",
    "\n",
    "<h3> Normal Equation </h3>\n",
    "\n",
    "$\\theta = (X^T X)^{-1} X^T y$"
   ]
  },
  {
   "cell_type": "code",
   "execution_count": 143,
   "metadata": {
    "collapsed": false
   },
   "outputs": [
    {
     "name": "stdout",
     "output_type": "stream",
     "text": [
      "[[ 7.99102098]\n",
      " [ 1.32243102]]\n"
     ]
    }
   ],
   "source": [
    "def normal_equation(X, y):\n",
    "    theta = np.linalg.inv((X.T.dot(X))).dot(X.T).dot(y)\n",
    "    return theta\n",
    "theta = normal_equation(x1_with_yintercept, y)\n",
    "print theta"
   ]
  },
  {
   "cell_type": "markdown",
   "metadata": {},
   "source": [
    "The first number above represents the coefficient for the y-intercept. The second number is the coefficient for the slope (x1)."
   ]
  },
  {
   "cell_type": "markdown",
   "metadata": {},
   "source": [
    "<h3> Our Results </h3>"
   ]
  },
  {
   "cell_type": "code",
   "execution_count": 144,
   "metadata": {
    "collapsed": false
   },
   "outputs": [
    {
     "name": "stdout",
     "output_type": "stream",
     "text": [
      "[  50.97313068   78.64428408   89.36067528   70.77427966   87.08986264\n",
      "   80.9127616    77.03752068   59.96198716   71.60662047   77.48479033\n",
      "   68.05548117   79.86730909   66.39493013   84.9148112    83.00884075\n",
      "   72.73180677   67.0867556    87.7300766    68.31853072   59.3235847\n",
      "   95.52248785   94.4992372    70.78164424   62.97194057   76.55270453\n",
      "   86.50483786   83.77954744   92.11821271   69.79829882   74.84884901\n",
      "   77.05365354   55.02702285   64.11033459   84.90961325   84.03668646\n",
      "   68.0829885    89.84450605   51.75533073   56.17513031   57.81447577\n",
      "   66.91273975   65.27646179   74.20930217   66.00688013   91.30084388\n",
      "   51.19357794   61.10897432   78.84036556   52.77410942   93.56174855\n",
      "   58.40185886   66.84255791   61.68111005   63.16373769   75.55221639\n",
      "   80.82800368   62.7102102    90.63594762   73.05976831   62.34648699\n",
      "   62.45139666   74.35905937   77.25790319   74.29174233   52.48382396\n",
      "   60.30361675   82.21958847   83.84837825   87.69289981   55.17283917\n",
      "   49.76412685   78.95390252   69.72504836   64.99813976  101.0188537\n",
      "   66.82975389   84.03679977   56.82849996   81.79025402   59.50601609\n",
      "   83.23895254   83.19621945   53.3942102    86.08023065   84.41196114\n",
      "   79.77565645   75.55232909   74.48660368   66.45799985   58.25065736\n",
      "   51.55253356   78.99451081   98.92896128   69.12828529   98.33866318\n",
      "   74.1524756    73.10721422   74.16490857   71.66588812   41.22170864]\n"
     ]
    }
   ],
   "source": [
    "yHat = x1_with_yintercept.dot(theta).flatten()\n",
    "print yHat"
   ]
  },
  {
   "cell_type": "markdown",
   "metadata": {},
   "source": [
    "Let's make sure all our data is in the same format, the plot our linear regression model."
   ]
  },
  {
   "cell_type": "code",
   "execution_count": 145,
   "metadata": {
    "collapsed": false,
    "scrolled": false
   },
   "outputs": [
    {
     "data": {
      "image/png": "[encoded data removed]",
      "text/plain": [
       "<matplotlib.figure.Figure at 0xccea0f0>"
      ]
     },
     "metadata": {},
     "output_type": "display_data"
    }
   ],
   "source": [
    "y = np.array(y).reshape(y.size, 1).flatten()\n",
    "x1 = np.array(x1)\n",
    "yHat = np.array(yHat).reshape(yHat.size, 1).flatten()\n",
    "\n",
    "scatter(x1, y, marker='o', c='b')\n",
    "plt.plot(x1, yHat.flatten())\n",
    "plt.show()"
   ]
  },
  {
   "cell_type": "markdown",
   "metadata": {},
   "source": [
    "The line in the above graph looks like it fits the data points pretty well.\n",
    "Let's try making a prediction given the coefficients we found (our theta values).\n",
    "What would our level of drunkenness be if we had 70 beers?"
   ]
  },
  {
   "cell_type": "code",
   "execution_count": 146,
   "metadata": {
    "collapsed": false
   },
   "outputs": [
    {
     "name": "stdout",
     "output_type": "stream",
     "text": [
      "[ 100.56119258]\n"
     ]
    }
   ],
   "source": [
    "print np.array([1, 70]).dot(theta)"
   ]
  },
  {
   "cell_type": "markdown",
   "metadata": {},
   "source": [
    "Wow, 100.56 must be a pretty high drunken level. Maybe drinking 70 beers at once isn't such a good idea after all."
   ]
  },
  {
   "cell_type": "markdown",
   "metadata": {},
   "source": [
    "#Linear Regression w/ Multiple Variables"
   ]
  },
  {
   "cell_type": "markdown",
   "metadata": {
    "collapsed": true
   },
   "source": [
    "Let's say we have some housing data."
   ]
  },
  {
   "cell_type": "code",
   "execution_count": 2,
   "metadata": {
    "collapsed": false
   },
   "outputs": [
    {
     "name": "stdout",
     "output_type": "stream",
     "text": [
      "<class 'pandas.core.frame.DataFrame'>\n",
      "Int64Index: 47 entries, 0 to 46\n",
      "Data columns (total 3 columns):\n",
      "square_footage     47 non-null int64\n",
      "num_of_bedrooms    47 non-null int64\n",
      "price              47 non-null int64\n",
      "dtypes: int64(3)\n",
      "memory usage: 1.5 KB\n",
      "None\n",
      "   square_footage  num_of_bedrooms   price\n",
      "0            2104                3  399900\n",
      "1            1600                3  329900\n",
      "2            2400                3  369000\n",
      "3            1416                2  232000\n",
      "4            3000                4  539900\n",
      "5            1985                4  299900\n",
      "6            1534                3  314900\n",
      "7            1427                3  198999\n",
      "8            1380                3  212000\n",
      "9            1494                3  242500\n"
     ]
    }
   ],
   "source": [
    "housing_data = pd.read_csv('housingdata.csv')\n",
    "print housing_data.info()\n",
    "print housing_data.head(10)"
   ]
  },
  {
   "cell_type": "markdown",
   "metadata": {},
   "source": [
    "Since we have more than one variable this time, our line equation now looks something like this:\n",
    "\n",
    "$y = \\theta_0 x_0 + \\theta_1 x_1 + \\theta_2 x_2$\n",
    "\n",
    "Let's plot this - our plot will have to be 3d since we're dealing with more than 2-dimensional space."
   ]
  },
  {
   "cell_type": "code",
   "execution_count": 3,
   "metadata": {
    "collapsed": false
   },
   "outputs": [
    {
     "data": {
      "image/png": "[encoded data removed]",
      "text/plain": [
       "<matplotlib.figure.Figure at 0xcace3c8>"
      ]
     },
     "metadata": {},
     "output_type": "display_data"
    }
   ],
   "source": [
    "threedee = plt.figure().gca(projection='3d')\n",
    "threedee.scatter(housing_data['square_footage'], housing_data['num_of_bedrooms'], housing_data['price'])\n",
    "threedee.set_xlabel('Square Feet')\n",
    "threedee.set_ylabel('Bedrooms')\n",
    "threedee.set_zlabel('Price')\n",
    "plt.show()"
   ]
  },
  {
   "cell_type": "markdown",
   "metadata": {},
   "source": [
    "Looks like there's a linear relationship between the dependent and independent variables.\n",
    "Our goal is to predict the price of the house given the size of the house and the number of bedrooms it has."
   ]
  },
  {
   "cell_type": "code",
   "execution_count": 4,
   "metadata": {
    "collapsed": false
   },
   "outputs": [],
   "source": [
    "y = housing_data['price']\n",
    "x1 = housing_data['square_footage']\n",
    "x2 = housing_data['num_of_bedrooms']\n",
    "features = pd.DataFrame(housing_data[['square_footage', 'num_of_bedrooms']])"
   ]
  },
  {
   "cell_type": "markdown",
   "metadata": {},
   "source": [
    "Get number of training examples."
   ]
  },
  {
   "cell_type": "code",
   "execution_count": 5,
   "metadata": {
    "collapsed": false
   },
   "outputs": [
    {
     "name": "stdout",
     "output_type": "stream",
     "text": [
      "47\n"
     ]
    }
   ],
   "source": [
    "num_of_observations = y.size\n",
    "print num_of_observations"
   ]
  },
  {
   "cell_type": "markdown",
   "metadata": {},
   "source": [
    "Let's vectorize our y values (i.e. our target variable)"
   ]
  },
  {
   "cell_type": "code",
   "execution_count": 6,
   "metadata": {
    "collapsed": false
   },
   "outputs": [
    {
     "name": "stdout",
     "output_type": "stream",
     "text": [
      "[[399900]\n",
      " [329900]\n",
      " [369000]\n",
      " [232000]\n",
      " [539900]\n",
      " [299900]\n",
      " [314900]\n",
      " [198999]\n",
      " [212000]\n",
      " [242500]]\n"
     ]
    }
   ],
   "source": [
    "y = y.as_matrix().reshape(y.size, 1)\n",
    "print y[0:10]"
   ]
  },
  {
   "cell_type": "markdown",
   "metadata": {},
   "source": [
    "Although there's only 47 observations and we could technically use the Normal Equation, let's use another technique meant for observations that are > 10,000 called \"Gradient Descent\".\n",
    "\n",
    "<h3>Gradient Descent</3>"
   ]
  },
  {
   "cell_type": "markdown",
   "metadata": {},
   "source": [
    "Let's ignore the fact that we're working with multiple independent variables and image our first example for a moment where we only had one variable to consider.\n",
    "\n",
    "Gradient Descent is an interative technique used to find the optimal coefficient values. If we chose random coefficients for our independent variables, we might get a really inaccurate prediction like in the graph below.\n",
    "<img src=\"http://www.mrdataminer.com/wp-content/uploads/2015/05/figure_1-300x224.png\">\n",
    "\n",
    "Obviously we missed the mark. A good way to fit this line a little better is to determine an error metric we'd like to use to see how our line compares to our data points; obviously the smaller the error, the better. We can do this using the Mean Squared Error function:\n",
    "\n",
    "$MSE(\\theta) = \\frac{1}{N}\\sum\\limits_{i=1}^N(h_\\theta (x^i) - y^i)^2$ where $\\theta$ is a vector of coefficients and $i$ is the ith training example\n",
    "\n",
    "Let's plot a range of potential $\\theta$ values along with their errors.\n",
    "<img src=\"http://d1u2s20mo6at4b.cloudfront.net/wp-content/uploads/gradient_descent_error_surface.png\" width=\"50%\", height=\"50%\">\n",
    "\n",
    "As you can see, we'd ideally like to find two values where our error is at its smallest. It seems the error is \"minimized\" at the bottom of these two graphs. So if we just choose a random place to start and start moving downhill, eventually we'll get to the bottom which is where we'd like to be.\n",
    "\n",
    "So how do we start moving toward the bottom of the graph? This is achieved using a bit of calculus. If we take the partial derivative of our Mean Squared Error function, we'll get direction values for our independent variables. If those values are negative (which means their slopes are negative) we're looking downhill, which is good! Below is the partial derivative of the MSE function.\n",
    "\n",
    "$\\frac{\\delta}{\\delta \\theta_j} = \\frac{2}{N}\\sum\\limits_{i=1}^N x_j^i(h_\\theta(x^i) - y^i)$\n",
    "\n",
    "In order to iteratively move downhill, we use the gradient descent algorithm and repeat this until convergence.\n",
    "\n",
    "$\\theta_j = \\theta_j - \\alpha \\frac{\\delta}{\\delta \\theta_j} MSE(\\theta)$ where $\\alpha$ is the learning rate or step size"
   ]
  },
  {
   "cell_type": "markdown",
   "metadata": {},
   "source": [
    "Convergence happens when there's not much change in error (i.e. the MSE function) after each iteration. Typically if the change in error is < 0.001, we can say the process has converged.\n",
    "\n",
    "Before we start, we'll need to make sure we scale all our independent variables. There's a few orders of magnitude of difference between the number of bedrooms and the square_footage. To scale the variables, we can use \"z-score normalization\":\n",
    "<h4>Z-Score Normalization</h4>\n",
    "<ol>\n",
    "    <li> subtract mean value of each feature from the dataset </li>\n",
    "    <li> divide the above by that feature's value's standard deviation. </li>\n",
    "</ol>\n",
    "\n",
    "Let's write some code for it now!"
   ]
  },
  {
   "cell_type": "code",
   "execution_count": 7,
   "metadata": {
    "collapsed": false
   },
   "outputs": [],
   "source": [
    "def normalize_features(features):\n",
    "    num_of_columns = features.shape[1]\n",
    "    column_names = features.columns.values\n",
    "\n",
    "    mean_of_features = []\n",
    "    std_deviation_of_features = []\n",
    "\n",
    "    normalized_features = pd.DataFrame()\n",
    "\n",
    "    for column in range(num_of_columns):\n",
    "        mean = features.ix[:, column].mean()\n",
    "        mean_of_features.append(mean)\n",
    "        std_deviation = features.ix[:, column].std()\n",
    "        std_deviation_of_features.append(std_deviation)\n",
    "        normalized_features[column_names[column]] = (features.ix[:, column] - mean) / std_deviation\n",
    "\n",
    "    return normalized_features, mean_of_features, std_deviation_of_features\n",
    "\n",
    "normalized_features, mean_of_features, std_deviation_of_features = normalize_features(features)"
   ]
  },
  {
   "cell_type": "markdown",
   "metadata": {},
   "source": [
    "Ok, now we've got our features scaled. Let's add ones to our y-intercept independent variable."
   ]
  },
  {
   "cell_type": "code",
   "execution_count": 8,
   "metadata": {
    "collapsed": false
   },
   "outputs": [
    {
     "name": "stdout",
     "output_type": "stream",
     "text": [
      "[[ 1.          0.13000987 -0.22367519]\n",
      " [ 1.         -0.50418984 -0.22367519]\n",
      " [ 1.          0.50247636 -0.22367519]\n",
      " [ 1.         -0.73572306 -1.53776691]\n",
      " [ 1.          1.25747602  1.09041654]\n",
      " [ 1.         -0.01973173  1.09041654]\n",
      " [ 1.         -0.5872398  -0.22367519]\n",
      " [ 1.         -0.7218814  -0.22367519]\n",
      " [ 1.         -0.78102304 -0.22367519]\n",
      " [ 1.         -0.63757311 -0.22367519]]\n"
     ]
    }
   ],
   "source": [
    "normalized_features.shape\n",
    "normalized_features_with_yintercept = np.ones(shape=(num_of_observations, normalized_features.shape[1] + 1))\n",
    "# overlay our features on the matrix of ones we created above\n",
    "normalized_features_with_yintercept[:, 1:normalized_features.shape[1] + 1] = normalized_features\n",
    "print normalized_features_with_yintercept[0:10]"
   ]
  },
  {
   "cell_type": "markdown",
   "metadata": {},
   "source": [
    "Initialize the learning rate."
   ]
  },
  {
   "cell_type": "code",
   "execution_count": 9,
   "metadata": {
    "collapsed": true
   },
   "outputs": [],
   "source": [
    "alpha = 0.01"
   ]
  },
  {
   "cell_type": "markdown",
   "metadata": {},
   "source": [
    "Initialize theta (coefficient) values by just setting them equal to 0 and make it a vector."
   ]
  },
  {
   "cell_type": "code",
   "execution_count": 10,
   "metadata": {
    "collapsed": false
   },
   "outputs": [],
   "source": [
    "theta = np.zeros(shape=(normalized_features_with_yintercept.shape[1], 1))"
   ]
  },
  {
   "cell_type": "markdown",
   "metadata": {
    "collapsed": true
   },
   "source": [
    "Now that we've normalized our features and initialized our alpha and theta, we're ready to run the gradient descent algorithm.\n",
    "\n",
    "The following gradient descent algorithm has been tweaked a little. A constant learning rate will indeed get us to a point of convergence assuming we pick a good learning rate. If our MSE value doesn't increase on every iteration, we need to make alpha smaller but not too small, otherwise convergence can be really slow. A good idea is to consider this list of alpha values -> [0.001, 0.003, 0.01, 0.03, 0.1, 0.3, 1] and find a value that's too small and too large, and choose a value that's slightly smaller than the value that was too large."
   ]
  },
  {
   "cell_type": "code",
   "execution_count": 11,
   "metadata": {
    "collapsed": false
   },
   "outputs": [],
   "source": [
    "def compute_error(features, y, theta):\n",
    "    num_of_observations = y.size\n",
    "    yHat = features.dot(theta)\n",
    "    errors = (yHat - y)\n",
    "    mse = (1.0 / num_of_observations) * errors.T.dot(errors)\n",
    "    return mse\n",
    "\n",
    "def gradient_descent(features, y, theta, alpha):\n",
    "    # some initializations\n",
    "    num_of_observations = y.size\n",
    "    mse_history = {}\n",
    "    num_of_iterations = 0\n",
    "    decrease_alpha = False\n",
    "    converged = False\n",
    "\n",
    "    # batch gradient descent (great for convex or relatively smooth manifolds)\n",
    "    while not converged:\n",
    "        num_of_iterations += 1\n",
    "        yHat = features.dot(theta)\n",
    "        theta_size = theta.size\n",
    "        for theta_index in range(theta_size):\n",
    "            # get all training examples for that one feature\n",
    "            feature_examples = features[:, theta_index]\n",
    "            feature_examples.shape = (num_of_observations, 1)\n",
    "            # calculate partial derivative of MSE function given the current feature\n",
    "            partial_derivative = (2.0 / num_of_observations) * sum((yHat - y) * feature_examples)\n",
    "            # update theta via gradient descent\n",
    "            theta[theta_index][0] = theta[theta_index][0] - alpha * partial_derivative\n",
    "        # update MSE history with each iteration\n",
    "        mse_history[num_of_iterations] = compute_error(features, y, theta)\n",
    "        current_error = mse_history[num_of_iterations]\n",
    "        if num_of_iterations == 1:\n",
    "            previous_error = 0\n",
    "        else:\n",
    "            previous_error = mse_history[num_of_iterations-1]\n",
    "        if previous_error == current_error:\n",
    "            decrease_alpha = True\n",
    "            break\n",
    "        if math.fabs(previous_error - current_error) < 0.001:\n",
    "            converged = True\n",
    "            break\n",
    "    return theta, mse_history, num_of_iterations, decrease_alpha\n",
    "def find_optimal_thetas(normalized_features_with_yintercept, y, theta, alpha):\n",
    "    theta, mse_history, num_of_iterations, decrease_alpha = gradient_descent(normalized_features_with_yintercept, y, theta, alpha)\n",
    "    while decrease_alpha:\n",
    "        # reset theta values\n",
    "        theta = zeros(shape=(3, 1))\n",
    "        alpha = alpha * math.pow(10, -1)\n",
    "        theta, mse_history, num_of_iterations, decrease_alpha = gradient_descent(normalized_features_with_yintercept, y, theta, alpha)\n",
    "    return alpha, theta, num_of_iterations\n",
    "\n",
    "alpha, theta, num_of_iterations = find_optimal_thetas(normalized_features_with_yintercept, y, theta, alpha)"
   ]
  },
  {
   "cell_type": "markdown",
   "metadata": {},
   "source": [
    "Let's go ahead and take a look at our results."
   ]
  },
  {
   "cell_type": "code",
   "execution_count": 12,
   "metadata": {
    "collapsed": false
   },
   "outputs": [
    {
     "name": "stdout",
     "output_type": "stream",
     "text": [
      "optimized alpha: 0.01\n",
      "theta0: 340412.659574\n",
      "theta1: 110630.792782\n",
      "theta2: -6649.21677367\n",
      "iterations used: 1426\n"
     ]
    }
   ],
   "source": [
    "print 'optimized alpha: ' + str(alpha)\n",
    "for index, value in enumerate(theta):\n",
    "    print 'theta' + str(index) + ': ' + str(value[0])\n",
    "print 'iterations used: ' + str(num_of_iterations)"
   ]
  },
  {
   "cell_type": "markdown",
   "metadata": {},
   "source": [
    "Let's get the predictions for our training data and plot the predictions to get an visual confirmation that our thetas are in the ball park."
   ]
  },
  {
   "cell_type": "code",
   "execution_count": 37,
   "metadata": {
    "collapsed": false
   },
   "outputs": [
    {
     "data": {
      "image/png": "[encoded data removed]",
      "text/plain": [
       "<matplotlib.figure.Figure at 0xe1463c8>"
      ]
     },
     "metadata": {},
     "output_type": "display_data"
    }
   ],
   "source": [
    "yHat = normalized_features_with_yintercept.dot(theta)\n",
    "\n",
    "threedee = plt.figure().gca(projection='3d')\n",
    "threedee.scatter(housing_data['square_footage'], housing_data['num_of_bedrooms'], housing_data['price'])\n",
    "threedee.plot(housing_data['square_footage'], housing_data['num_of_bedrooms'], yHat.flatten())\n",
    "threedee.set_xlabel('Square Feet')\n",
    "threedee.set_ylabel('Bedrooms')\n",
    "threedee.set_zlabel('Price')\n",
    "plt.show()"
   ]
  },
  {
   "cell_type": "markdown",
   "metadata": {},
   "source": [
    "Now let's make a price prediction given a 1650 square foot and 3 bedroom house!"
   ]
  },
  {
   "cell_type": "code",
   "execution_count": 13,
   "metadata": {
    "collapsed": false
   },
   "outputs": [
    {
     "name": "stdout",
     "output_type": "stream",
     "text": [
      "[ 308308.70589943]\n"
     ]
    }
   ],
   "source": [
    "# create the dataframe (we'll scale our new features in advance)\n",
    "features = np.array([1.0, ((1650 - mean_of_features[0]) / std_deviation_of_features[0]), ((3 - mean_of_features[0]) / std_deviation_of_features[0])])\n",
    "price_prediction = features.dot(theta)\n",
    "print price_prediction"
   ]
  },
  {
   "cell_type": "markdown",
   "metadata": {},
   "source": [
    "There you have it! The predicted cost for a house like that would be around $308k. Pretty cool, huh?\n",
    "\n",
    "If you'd like to build on this algorithm, we could increase speed of convergence by employing a method called \"bold driver\".\n",
    "\n",
    "<h4> Bold Driver </h4>\n",
    "\n",
    "If the error rate (i.e. MSE value) was reduced since the last iteration, increase the learning rate by 5%. If the error then increases after this, that means you skipped the global optimum and should reset the theta values to the previous iteraton and decrease the learning rate by 50%."
   ]
  },
  {
   "cell_type": "markdown",
   "metadata": {},
   "source": [
    "#Making Use of Libraries\n",
    "So now that we know the how the underpinnings of linear regression work in both univariate and multivariate scenarios, we can safely use some good libraries out there that already do the code work - but now it's not a black box to us."
   ]
  },
  {
   "cell_type": "code",
   "execution_count": 60,
   "metadata": {
    "collapsed": false
   },
   "outputs": [
    {
     "data": {
      "image/png": "[encoded data removed]",
      "text/plain": [
       "<matplotlib.figure.Figure at 0xeb0bb00>"
      ]
     },
     "metadata": {},
     "output_type": "display_data"
    },
    {
     "name": "stdout",
     "output_type": "stream",
     "text": [
      "Theta:  [ 340412.65957447  110631.05027885   -6649.47427082]\n",
      "P-Values:  [  6.24348183e-34   4.22227907e-12   5.74577895e-01]\n",
      "R-Squared:  0.732945018029\n"
     ]
    }
   ],
   "source": [
    "%matplotlib inline\n",
    "import pylab as pl\n",
    "import numpy as np\n",
    "import pandas as pd\n",
    "import statsmodels.api as sm\n",
    "from mpl_toolkits.mplot3d import Axes3D\n",
    "\n",
    "# import the cleaned up dataset\n",
    "df = pd.read_csv('housingdata.csv')\n",
    "\n",
    "price = df['price']\n",
    "square_footage = df['square_footage']\n",
    "num_of_bedrooms = df['num_of_bedrooms']\n",
    "\n",
    "features = pd.DataFrame(housing_data[['square_footage', 'num_of_bedrooms']])\n",
    "\n",
    "# normalize the data\n",
    "features_norm = (features - features.mean()) / (features.std())\n",
    "square_footage = features_norm['square_footage']\n",
    "num_of_bedrooms = features_norm['num_of_bedrooms']\n",
    "\n",
    "# reshape the data from a pandas Series to columns \n",
    "# the dependent variable\n",
    "y = np.matrix(price).transpose()\n",
    "# the independent variables shaped as columns\n",
    "x1 = np.matrix(square_footage).transpose()\n",
    "x2 = np.matrix(num_of_bedrooms).transpose()\n",
    "\n",
    "# put the two columns together to create an input matrix \n",
    "# if we had n independent variables we would have n columns here\n",
    "x = np.column_stack([x1,x2])\n",
    "\n",
    "# create a linear model and fit it to the data\n",
    "X = sm.add_constant(x)\n",
    "model = sm.OLS(y,X)\n",
    "f = model.fit()\n",
    "\n",
    "# make predictions on training and data and plot\n",
    "theta = f.params[0:3].reshape(3, 1)\n",
    "yHat = X.dot(theta)\n",
    "\n",
    "threedee = plt.figure().gca(projection='3d')\n",
    "threedee.scatter(square_footage, num_of_bedrooms, price)\n",
    "threedee.plot(square_footage, num_of_bedrooms, yHat.flatten())\n",
    "threedee.set_xlabel('Square Feet')\n",
    "threedee.set_ylabel('Bedrooms')\n",
    "threedee.set_zlabel('Price')\n",
    "plt.show()\n",
    "\n",
    "print 'Theta: ', f.params[0:3]\n",
    "print 'P-Values: ', f.pvalues\n",
    "print 'R-Squared: ', f.rsquared"
   ]
  }
 ],
 "metadata": {
  "kernelspec": {
   "display_name": "Python 2",
   "language": "python",
   "name": "python2"
  },
  "language_info": {
   "codemirror_mode": {
    "name": "ipython",
    "version": 2
   },
   "file_extension": ".py",
   "mimetype": "text/x-python",
   "name": "python",
   "nbconvert_exporter": "python",
   "pygments_lexer": "ipython2",
   "version": "2.7.10"
  }
 },
 "nbformat": 4,
 "nbformat_minor": 0
}
